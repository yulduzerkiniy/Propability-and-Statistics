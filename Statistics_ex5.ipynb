{
 "cells": [
  {
   "cell_type": "markdown",
   "id": "df3fef92",
   "metadata": {},
   "source": [
    "ex 1: "
   ]
  },
  {
   "cell_type": "code",
   "execution_count": 1,
   "id": "0dca618f",
   "metadata": {},
   "outputs": [],
   "source": [
    "import numpy as np"
   ]
  },
  {
   "cell_type": "code",
   "execution_count": 2,
   "id": "5b9767f8",
   "metadata": {},
   "outputs": [],
   "source": [
    "sigma = 16\n",
    "alpha = 0.05\n",
    "m = 80\n",
    "n = 256"
   ]
  },
  {
   "cell_type": "markdown",
   "id": "4a0f183b",
   "metadata": {},
   "source": [
    "since aplha is 5%, we can use two-sigma rule: An empirical rule stating that, for many reasonably symmetric unimodal distributions, approximately 95% of the population lies within two standard deviations of the mean."
   ]
  },
  {
   "cell_type": "code",
   "execution_count": 3,
   "id": "a7d7558a",
   "metadata": {},
   "outputs": [
    {
     "data": {
      "text/plain": [
       "(48, 112)"
      ]
     },
     "execution_count": 3,
     "metadata": {},
     "output_type": "execute_result"
    }
   ],
   "source": [
    "(m-2*sigma, m+2*sigma)"
   ]
  },
  {
   "cell_type": "markdown",
   "id": "4bebf584",
   "metadata": {},
   "source": [
    "ex 2"
   ]
  },
  {
   "cell_type": "code",
   "execution_count": 9,
   "id": "cb73fc48",
   "metadata": {},
   "outputs": [],
   "source": [
    "n = 10\n",
    "X = np.array([6.9, 6.1, 6.2, 6.8, 7.5, 6.3, 6.4, 6.9, 6.7, 6.1])\n",
    "alpha = 0.05"
   ]
  },
  {
   "cell_type": "code",
   "execution_count": 8,
   "id": "57264c8b",
   "metadata": {},
   "outputs": [
    {
     "data": {
      "text/plain": [
       "array([6.9, 6.1, 6.2, 6.8, 7.5, 6.3, 6.4, 6.9, 6.7, 6.1])"
      ]
     },
     "execution_count": 8,
     "metadata": {},
     "output_type": "execute_result"
    }
   ],
   "source": [
    "X"
   ]
  },
  {
   "cell_type": "code",
   "execution_count": 11,
   "id": "1c6d1142",
   "metadata": {},
   "outputs": [
    {
     "data": {
      "text/plain": [
       "6.590000000000001"
      ]
     },
     "execution_count": 11,
     "metadata": {},
     "output_type": "execute_result"
    }
   ],
   "source": [
    "m = X.mean()\n",
    "m"
   ]
  },
  {
   "cell_type": "code",
   "execution_count": 14,
   "id": "dc259226",
   "metadata": {},
   "outputs": [
    {
     "data": {
      "text/plain": [
       "0.4508017549014448"
      ]
     },
     "execution_count": 14,
     "metadata": {},
     "output_type": "execute_result"
    }
   ],
   "source": [
    "sigma = X.std(ddof=1)\n",
    "sigma"
   ]
  },
  {
   "cell_type": "code",
   "execution_count": 16,
   "id": "f544ceb8",
   "metadata": {},
   "outputs": [],
   "source": [
    "t = 2.2622 #table"
   ]
  },
  {
   "cell_type": "code",
   "execution_count": 17,
   "id": "f0c8211c",
   "metadata": {},
   "outputs": [
    {
     "data": {
      "text/plain": [
       "(6.267509744706053, 6.912490255293949)"
      ]
     },
     "execution_count": 17,
     "metadata": {},
     "output_type": "execute_result"
    }
   ],
   "source": [
    "CI_for_X_bar = (m-t*sigma/np.sqrt(n),m+t*sigma/np.sqrt(n))\n",
    "CI_for_X_bar"
   ]
  },
  {
   "cell_type": "markdown",
   "id": "3b7a89cc",
   "metadata": {},
   "source": [
    "m belongs to CI_for_X_bar"
   ]
  },
  {
   "cell_type": "markdown",
   "id": "6a3257fc",
   "metadata": {},
   "source": [
    "ex 3:"
   ]
  },
  {
   "cell_type": "code",
   "execution_count": 19,
   "id": "0ed1c0ee",
   "metadata": {},
   "outputs": [],
   "source": [
    "M = 17\n",
    "alpha = 0.05\n",
    "n = 100\n",
    "m_x = 17.5\n",
    "sigma = 4"
   ]
  },
  {
   "cell_type": "code",
   "execution_count": null,
   "id": "2f0639cc",
   "metadata": {},
   "outputs": [],
   "source": [
    "H_0: M = 17"
   ]
  },
  {
   "cell_type": "markdown",
   "id": "d490a4cf",
   "metadata": {},
   "source": [
    "T = 1/n* (sum (x_i) ) for i = 1..n"
   ]
  },
  {
   "cell_type": "code",
   "execution_count": 21,
   "id": "5b9390af",
   "metadata": {},
   "outputs": [],
   "source": [
    "T = m_x"
   ]
  },
  {
   "cell_type": "markdown",
   "id": "af4e5e53",
   "metadata": {},
   "source": [
    "using two-sigma rule:"
   ]
  },
  {
   "cell_type": "code",
   "execution_count": 22,
   "id": "1b824c10",
   "metadata": {},
   "outputs": [
    {
     "data": {
      "text/plain": [
       "(16.8, 17.2)"
      ]
     },
     "execution_count": 22,
     "metadata": {},
     "output_type": "execute_result"
    }
   ],
   "source": [
    "not_critical_interval = (M-2/np.sqrt(n), M+2/np.sqrt(n))\n",
    "not_critical_interval"
   ]
  },
  {
   "cell_type": "markdown",
   "id": "930d18e1",
   "metadata": {},
   "source": [
    "since m_x doesn't belong to not_critical_interval, means it belongs to critical area, H_0 declined"
   ]
  },
  {
   "cell_type": "markdown",
   "id": "f09ec3cf",
   "metadata": {},
   "source": [
    "ex 4:"
   ]
  },
  {
   "cell_type": "code",
   "execution_count": 24,
   "id": "6ca6bb90",
   "metadata": {},
   "outputs": [],
   "source": [
    "M = 200\n",
    "n = 10\n",
    "X = np.array([202, 203, 199, 197, 195, 201, 200, 204, 194, 190])\n",
    "alpha = 0.01"
   ]
  },
  {
   "cell_type": "code",
   "execution_count": 27,
   "id": "c1951d7d",
   "metadata": {},
   "outputs": [
    {
     "data": {
      "text/plain": [
       "198.5"
      ]
     },
     "execution_count": 27,
     "metadata": {},
     "output_type": "execute_result"
    }
   ],
   "source": [
    "m_x = X.mean()\n",
    "m_x"
   ]
  },
  {
   "cell_type": "code",
   "execution_count": 28,
   "id": "8b987ede",
   "metadata": {},
   "outputs": [
    {
     "data": {
      "text/plain": [
       "4.453463071962462"
      ]
     },
     "execution_count": 28,
     "metadata": {},
     "output_type": "execute_result"
    }
   ],
   "source": [
    "sigma_x = X.std(ddof = 1)\n",
    "sigma_x"
   ]
  },
  {
   "cell_type": "markdown",
   "id": "e16e908c",
   "metadata": {},
   "source": [
    "H_0 : M = 200"
   ]
  },
  {
   "cell_type": "code",
   "execution_count": 33,
   "id": "a9bfe9a3",
   "metadata": {},
   "outputs": [
    {
     "data": {
      "text/plain": [
       "-1.0651074037450896"
      ]
     },
     "execution_count": 33,
     "metadata": {},
     "output_type": "execute_result"
    }
   ],
   "source": [
    "T = (m_x-M)/(sigma_x/np.sqrt(n))\n",
    "T"
   ]
  },
  {
   "cell_type": "code",
   "execution_count": 31,
   "id": "73e4734d",
   "metadata": {},
   "outputs": [],
   "source": [
    "t = 4.7809 #table"
   ]
  },
  {
   "cell_type": "code",
   "execution_count": 34,
   "id": "ff9504ef",
   "metadata": {},
   "outputs": [
    {
     "data": {
      "text/plain": [
       "(-4.7809, 4.7809)"
      ]
     },
     "execution_count": 34,
     "metadata": {},
     "output_type": "execute_result"
    }
   ],
   "source": [
    "not_critical_interval = (-t, t)\n",
    "not_critical_interval"
   ]
  },
  {
   "cell_type": "markdown",
   "id": "ffdbdbaa",
   "metadata": {},
   "source": [
    "since T belongs to not_critical_interval, H_0 acceptable"
   ]
  }
 ],
 "metadata": {
  "kernelspec": {
   "display_name": "Python 3 (ipykernel)",
   "language": "python",
   "name": "python3"
  },
  "language_info": {
   "codemirror_mode": {
    "name": "ipython",
    "version": 3
   },
   "file_extension": ".py",
   "mimetype": "text/x-python",
   "name": "python",
   "nbconvert_exporter": "python",
   "pygments_lexer": "ipython3",
   "version": "3.9.12"
  }
 },
 "nbformat": 4,
 "nbformat_minor": 5
}
