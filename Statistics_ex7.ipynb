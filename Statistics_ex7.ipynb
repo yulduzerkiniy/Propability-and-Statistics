{
 "cells": [
  {
   "cell_type": "markdown",
   "id": "795dfb45",
   "metadata": {},
   "source": [
    "ex1.1"
   ]
  },
  {
   "cell_type": "code",
   "execution_count": 79,
   "id": "1523ef62",
   "metadata": {},
   "outputs": [],
   "source": [
    "import numpy as np\n",
    "import pandas as pd\n",
    "from matplotlib import pyplot as plt\n",
    "from scipy import stats"
   ]
  },
  {
   "cell_type": "code",
   "execution_count": 48,
   "id": "8f4abb1a",
   "metadata": {},
   "outputs": [],
   "source": [
    "salary = np.array([35, 45, 190, 200, 40, 70, 54, 150, 120, 110])\n",
    "scoring = np.array([401, 574, 874, 919, 459, 739, 653, 902, 746, 832])"
   ]
  },
  {
   "cell_type": "code",
   "execution_count": 49,
   "id": "245fc92c",
   "metadata": {},
   "outputs": [
    {
     "data": {
      "text/plain": [
       "2.620538882402765"
      ]
     },
     "execution_count": 49,
     "metadata": {},
     "output_type": "execute_result"
    }
   ],
   "source": [
    "b1 = (np.mean(salary * scoring) - np.mean(salary) * np.mean(scoring)) / (np.mean(salary ** 2) - np.mean(salary) ** 2)\n",
    "b1"
   ]
  },
  {
   "cell_type": "code",
   "execution_count": 50,
   "id": "6fcfc8b0",
   "metadata": {},
   "outputs": [
    {
     "data": {
      "text/plain": [
       "444.1773573243596"
      ]
     },
     "execution_count": 50,
     "metadata": {},
     "output_type": "execute_result"
    }
   ],
   "source": [
    "b0 = np.mean(scoring) - b1 * np.mean(salary)\n",
    "b0"
   ]
  },
  {
   "cell_type": "code",
   "execution_count": 67,
   "id": "99733bb9",
   "metadata": {},
   "outputs": [
    {
     "data": {
      "text/plain": [
       "array([[401],\n",
       "       [574],\n",
       "       [874],\n",
       "       [919],\n",
       "       [459],\n",
       "       [739],\n",
       "       [653],\n",
       "       [902],\n",
       "       [746],\n",
       "       [832]])"
      ]
     },
     "execution_count": 67,
     "metadata": {},
     "output_type": "execute_result"
    }
   ],
   "source": [
    "scoring = scoring.reshape(scoring.size, 1)\n",
    "scoring"
   ]
  },
  {
   "cell_type": "code",
   "execution_count": 68,
   "id": "69bbbfd9",
   "metadata": {},
   "outputs": [
    {
     "data": {
      "text/plain": [
       "array([[ 35],\n",
       "       [ 45],\n",
       "       [190],\n",
       "       [200],\n",
       "       [ 40],\n",
       "       [ 70],\n",
       "       [ 54],\n",
       "       [150],\n",
       "       [120],\n",
       "       [110]])"
      ]
     },
     "execution_count": 68,
     "metadata": {},
     "output_type": "execute_result"
    }
   ],
   "source": [
    "salary = salary.reshape(salary.size, 1)\n",
    "salary"
   ]
  },
  {
   "cell_type": "code",
   "execution_count": 69,
   "id": "580ebacc",
   "metadata": {},
   "outputs": [
    {
     "data": {
      "text/plain": [
       "array([[  1.,  35.],\n",
       "       [  1.,  45.],\n",
       "       [  1., 190.],\n",
       "       [  1., 200.],\n",
       "       [  1.,  40.],\n",
       "       [  1.,  70.],\n",
       "       [  1.,  54.],\n",
       "       [  1., 150.],\n",
       "       [  1., 120.],\n",
       "       [  1., 110.]])"
      ]
     },
     "execution_count": 69,
     "metadata": {},
     "output_type": "execute_result"
    }
   ],
   "source": [
    "ones = np.ones((salary.shape[0], 1))\n",
    "salary = np.hstack((ones, salary))\n",
    "salary"
   ]
  },
  {
   "cell_type": "code",
   "execution_count": 70,
   "id": "d3bfbb80",
   "metadata": {},
   "outputs": [
    {
     "data": {
      "text/plain": [
       "349464.00000000023"
      ]
     },
     "execution_count": 70,
     "metadata": {},
     "output_type": "execute_result"
    }
   ],
   "source": [
    "XTX = salary.T.dot(salary)\n",
    "np.linalg.det(XTX)"
   ]
  },
  {
   "cell_type": "code",
   "execution_count": 71,
   "id": "a9227278",
   "metadata": {},
   "outputs": [
    {
     "name": "stdout",
     "output_type": "stream",
     "text": [
      "[[444.17735732]\n",
      " [  2.62053888]]\n"
     ]
    }
   ],
   "source": [
    "XTX_inv = np.linalg.inv(XTX)\n",
    "b = XTX_inv.dot(salary.T).dot(scoring)\n",
    "print(b)"
   ]
  },
  {
   "cell_type": "markdown",
   "id": "16618db2",
   "metadata": {},
   "source": [
    "ok"
   ]
  },
  {
   "cell_type": "markdown",
   "id": "c34cee40",
   "metadata": {},
   "source": [
    "ex1.2"
   ]
  },
  {
   "cell_type": "code",
   "execution_count": 74,
   "id": "bc647454",
   "metadata": {},
   "outputs": [],
   "source": [
    "salary = np.array([35, 45, 190, 200, 40, 70, 54, 150, 120, 110])\n",
    "scoring = np.array([401, 574, 874, 919, 459, 739, 653, 902, 746, 832])"
   ]
  },
  {
   "cell_type": "code",
   "execution_count": 75,
   "id": "a593aa40",
   "metadata": {},
   "outputs": [
    {
     "data": {
      "text/plain": [
       "[<matplotlib.lines.Line2D at 0x7f9f4040b640>]"
      ]
     },
     "execution_count": 75,
     "metadata": {},
     "output_type": "execute_result"
    },
    {
     "data": {
      "image/png": "[encoded data removed]",
      "text/plain": [
       "<Figure size 432x288 with 1 Axes>"
      ]
     },
     "metadata": {
      "needs_background": "light"
     },
     "output_type": "display_data"
    }
   ],
   "source": [
    "ox = salary\n",
    "oy = b0 + b1 * ox\n",
    "\n",
    "plt.scatter(salary, scoring)\n",
    "plt.plot(ox, oy, color='red')"
   ]
  },
  {
   "cell_type": "markdown",
   "id": "5219ec8f",
   "metadata": {},
   "source": [
    "ex1.3"
   ]
  },
  {
   "cell_type": "code",
   "execution_count": 76,
   "id": "5e3a8a17",
   "metadata": {},
   "outputs": [
    {
     "data": {
      "text/plain": [
       "0.7876386635293678"
      ]
     },
     "execution_count": 76,
     "metadata": {},
     "output_type": "execute_result"
    }
   ],
   "source": [
    "R2 = oy.var() / scoring.var()\n",
    "R2"
   ]
  },
  {
   "cell_type": "code",
   "execution_count": 77,
   "id": "601bb1ef",
   "metadata": {},
   "outputs": [
    {
     "data": {
      "text/plain": [
       "0.11469251843561709"
      ]
     },
     "execution_count": 77,
     "metadata": {},
     "output_type": "execute_result"
    }
   ],
   "source": [
    "A_bar = np.abs((scoring - oy) / scoring).mean()\n",
    "A_bar"
   ]
  },
  {
   "cell_type": "markdown",
   "id": "c74d0c5c",
   "metadata": {},
   "source": [
    "ex1.4"
   ]
  },
  {
   "cell_type": "code",
   "execution_count": 78,
   "id": "ecc0de2a",
   "metadata": {},
   "outputs": [
    {
     "data": {
      "text/plain": [
       "29.67164085966437"
      ]
     },
     "execution_count": 78,
     "metadata": {},
     "output_type": "execute_result"
    }
   ],
   "source": [
    "k1 = 1\n",
    "k2 = 8\n",
    "\n",
    "T1 = (R2 / (1 - R2)) * (k2 / k1)\n",
    "T1"
   ]
  },
  {
   "cell_type": "markdown",
   "id": "1ba54566",
   "metadata": {},
   "source": [
    "𝛼=0.05, 𝐹𝑐𝑟𝑖𝑡=𝐹(1,8) = 5.32"
   ]
  },
  {
   "cell_type": "code",
   "execution_count": 80,
   "id": "f0b5e867",
   "metadata": {},
   "outputs": [
    {
     "data": {
      "text/plain": [
       "5.317655071578714"
      ]
     },
     "execution_count": 80,
     "metadata": {},
     "output_type": "execute_result"
    }
   ],
   "source": [
    "alpha = 0.05\n",
    "\n",
    "F_crit = stats.f.ppf(1 - alpha, k1, k2)\n",
    "F_crit"
   ]
  },
  {
   "cell_type": "markdown",
   "id": "3080fb02",
   "metadata": {},
   "source": [
    "T > F_crit => статистически значимо"
   ]
  },
  {
   "cell_type": "markdown",
   "id": "f14195ea",
   "metadata": {},
   "source": [
    "ex1.5"
   ]
  },
  {
   "cell_type": "code",
   "execution_count": 82,
   "id": "fedb50c1",
   "metadata": {},
   "outputs": [
    {
     "data": {
      "text/plain": [
       "(444.1773573243596, 2.620538882402765)"
      ]
     },
     "execution_count": 82,
     "metadata": {},
     "output_type": "execute_result"
    }
   ],
   "source": [
    "b0, b1"
   ]
  },
  {
   "cell_type": "code",
   "execution_count": 83,
   "id": "40cdb053",
   "metadata": {},
   "outputs": [
    {
     "data": {
      "text/plain": [
       "0.48108279568516005"
      ]
     },
     "execution_count": 83,
     "metadata": {},
     "output_type": "execute_result"
    }
   ],
   "source": [
    "n = salary.shape[0]\n",
    "    \n",
    "upper = ((scoring - oy) ** 2).sum() / (n - 2)\n",
    "lower = ((salary - salary.mean()) ** 2).sum()\n",
    "\n",
    "s_slope = np.sqrt(upper / lower)\n",
    "s_slope"
   ]
  },
  {
   "cell_type": "markdown",
   "id": "102e3d5e",
   "metadata": {},
   "source": [
    "𝛼=0.05, n=10 => t(1−0.05/2, 8)=2.306"
   ]
  },
  {
   "cell_type": "code",
   "execution_count": 84,
   "id": "201d5836",
   "metadata": {},
   "outputs": [
    {
     "data": {
      "text/plain": [
       "5.447168150485579"
      ]
     },
     "execution_count": 84,
     "metadata": {},
     "output_type": "execute_result"
    }
   ],
   "source": [
    "T = b1 / s_slope\n",
    "T"
   ]
  },
  {
   "cell_type": "code",
   "execution_count": 85,
   "id": "9d7ca3ee",
   "metadata": {},
   "outputs": [
    {
     "data": {
      "text/plain": [
       "(1.5111619555527858, 3.729915809252744)"
      ]
     },
     "execution_count": 85,
     "metadata": {},
     "output_type": "execute_result"
    }
   ],
   "source": [
    "t = 2.306\n",
    "\n",
    "(b1 - t * s_slope, b1 + t * s_slope)"
   ]
  },
  {
   "cell_type": "markdown",
   "id": "527e3fae",
   "metadata": {},
   "source": [
    "Значение попало в критическую область. Если полученное нами значение  𝑏̂1  попадает в критическую область, то нулевая гипотеза (об отсутствии корреляции между значениями из  𝑥  и  𝑦 ) отвергается, откуда следует, что параметр  𝑏1  является значимым."
   ]
  },
  {
   "cell_type": "markdown",
   "id": "65372732",
   "metadata": {},
   "source": [
    "b0:"
   ]
  },
  {
   "cell_type": "code",
   "execution_count": 87,
   "id": "83987460",
   "metadata": {},
   "outputs": [
    {
     "data": {
      "text/plain": [
       "56.46649755068153"
      ]
     },
     "execution_count": 87,
     "metadata": {},
     "output_type": "execute_result"
    }
   ],
   "source": [
    "s_intercept = s_slope * np.sqrt((salary ** 2).mean())\n",
    "s_intercept"
   ]
  },
  {
   "cell_type": "code",
   "execution_count": 88,
   "id": "047da0ba",
   "metadata": {},
   "outputs": [
    {
     "data": {
      "text/plain": [
       "7.866210524668863"
      ]
     },
     "execution_count": 88,
     "metadata": {},
     "output_type": "execute_result"
    }
   ],
   "source": [
    "T = b0 / s_intercept\n",
    "T"
   ]
  },
  {
   "cell_type": "markdown",
   "id": "b680e7ae",
   "metadata": {},
   "source": [
    "Значение попало в критическую область, значит, значение параметра  𝑏0  является значимым."
   ]
  },
  {
   "cell_type": "markdown",
   "id": "24f5aaef",
   "metadata": {},
   "source": [
    "ex2"
   ]
  },
  {
   "cell_type": "markdown",
   "id": "02aa71e0",
   "metadata": {},
   "source": [
    "В случае, когда проверяются гипотезы относительно математического ожидания нормально распределённой случайной величины с неизвестной дисперсией пользуются т.н. t-распределением (или t-критерием Стьюдента); используется таблица значений функции Лапласа, если известна дисперсия"
   ]
  }
 ],
 "metadata": {
  "kernelspec": {
   "display_name": "Python 3 (ipykernel)",
   "language": "python",
   "name": "python3"
  },
  "language_info": {
   "codemirror_mode": {
    "name": "ipython",
    "version": 3
   },
   "file_extension": ".py",
   "mimetype": "text/x-python",
   "name": "python",
   "nbconvert_exporter": "python",
   "pygments_lexer": "ipython3",
   "version": "3.9.12"
  }
 },
 "nbformat": 4,
 "nbformat_minor": 5
}
